{
 "cells": [
  {
   "cell_type": "code",
   "execution_count": 1,
   "metadata": {
    "collapsed": true
   },
   "outputs": [],
   "source": [
    "import requests\n",
    "from lxml import etree\n"
   ]
  },
  {
   "cell_type": "code",
   "execution_count": 2,
   "outputs": [],
   "source": [
    "class Book:\n",
    "    def __init__(self, bookTxt: str, writer: str):\n",
    "        self.bookTxt = bookTxt\n",
    "        self.writer = writer\n",
    "\n",
    "    def __repr__(self):\n",
    "        return self.writer + '\\r\\n' + self.bookTxt"
   ],
   "metadata": {
    "collapsed": false,
    "pycharm": {
     "name": "#%%\n"
    }
   }
  },
  {
   "cell_type": "code",
   "execution_count": 4,
   "outputs": [],
   "source": [
    "def getArticle(numBook: int):\n",
    "    urlGetRoomInfo = \"https://avalon.law.yale.edu/18th_century/fed%02d.asp\"%(numBook+1)\n",
    "    r = requests.post(urlGetRoomInfo)\n",
    "\n",
    "    bookTree = etree.HTML(r.text)\n",
    "    # 获取文章内容\n",
    "    bookTxtList = bookTree.xpath('//div[@class=\"text-properties\"]/p/text()')\n",
    "    bookTxt = ''\n",
    "    for bookSentence in bookTxtList:\n",
    "        bookTxt += bookSentence\n",
    "    # 获取作者名字\n",
    "    TitleTxtList = bookTree.xpath('//div[@class=\"text-properties\"]//td[@align=\"center\"]//h4/text()')\n",
    "    TitleTxtList = TitleTxtList or bookTree.xpath('//div[@class=\"text-properties\"]//td[@align=\"center\"]//h3/text()')\n",
    "    *_, writer = TitleTxtList\n",
    "    writer = writer.rstrip().strip('\\r\\n')\n",
    "    book = Book(bookTxt, writer)\n",
    "    return book\n"
   ],
   "metadata": {
    "collapsed": false,
    "pycharm": {
     "name": "#%%\n"
    }
   }
  },
  {
   "cell_type": "code",
   "execution_count": 7,
   "outputs": [],
   "source": [
    "book = getArticle(42)\n"
   ],
   "metadata": {
    "collapsed": false,
    "pycharm": {
     "name": "#%%\n"
    }
   }
  }
 ],
 "metadata": {
  "kernelspec": {
   "name": "pycharm-c5184b62",
   "language": "python",
   "display_name": "PyCharm (NBayesTextClassifier)"
  },
  "language_info": {
   "codemirror_mode": {
    "name": "ipython",
    "version": 2
   },
   "file_extension": ".py",
   "mimetype": "text/x-python",
   "name": "python",
   "nbconvert_exporter": "python",
   "pygments_lexer": "ipython2",
   "version": "2.7.6"
  }
 },
 "nbformat": 4,
 "nbformat_minor": 0
}